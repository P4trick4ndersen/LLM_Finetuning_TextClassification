{
 "cells": [
  {
   "cell_type": "markdown",
   "metadata": {
    "id": "COk5wA3z--fz"
   },
   "source": [
    "## Prerequisites"
   ]
  },
  {
   "cell_type": "code",
   "execution_count": null,
   "metadata": {
    "colab": {
     "base_uri": "https://localhost:8080/"
    },
    "collapsed": true,
    "id": "oYOmKk4c-vLx",
    "outputId": "9a0bbc4a-fe1e-4888-c72e-3d3ddb965761"
   },
   "outputs": [
    {
     "name": "stdout",
     "output_type": "stream",
     "text": [
      "\u001b[?25l   \u001b[90m━━━━━━━━━━━━━━━━━━━━━━━━━━━━━━━━━━━━━━━━\u001b[0m \u001b[32m0.0/491.4 kB\u001b[0m \u001b[31m?\u001b[0m eta \u001b[36m-:--:--\u001b[0m\r",
      "\u001b[2K   \u001b[90m━━━━━━━━━━━━━━━━━━━━━━━━━━━━━━━━━━━━━━━━\u001b[0m \u001b[32m491.4/491.4 kB\u001b[0m \u001b[31m36.2 MB/s\u001b[0m eta \u001b[36m0:00:00\u001b[0m\n",
      "\u001b[2K   \u001b[90m━━━━━━━━━━━━━━━━━━━━━━━━━━━━━━━━━━━━━━━━\u001b[0m \u001b[32m84.0/84.0 kB\u001b[0m \u001b[31m10.2 MB/s\u001b[0m eta \u001b[36m0:00:00\u001b[0m\n",
      "\u001b[2K   \u001b[90m━━━━━━━━━━━━━━━━━━━━━━━━━━━━━━━━━━━━━━━━\u001b[0m \u001b[32m363.4/363.4 MB\u001b[0m \u001b[31m3.2 MB/s\u001b[0m eta \u001b[36m0:00:00\u001b[0m\n",
      "\u001b[2K   \u001b[90m━━━━━━━━━━━━━━━━━━━━━━━━━━━━━━━━━━━━━━━━\u001b[0m \u001b[32m13.8/13.8 MB\u001b[0m \u001b[31m107.5 MB/s\u001b[0m eta \u001b[36m0:00:00\u001b[0m\n",
      "\u001b[2K   \u001b[90m━━━━━━━━━━━━━━━━━━━━━━━━━━━━━━━━━━━━━━━━\u001b[0m \u001b[32m24.6/24.6 MB\u001b[0m \u001b[31m94.3 MB/s\u001b[0m eta \u001b[36m0:00:00\u001b[0m\n",
      "\u001b[2K   \u001b[90m━━━━━━━━━━━━━━━━━━━━━━━━━━━━━━━━━━━━━━━━\u001b[0m \u001b[32m883.7/883.7 kB\u001b[0m \u001b[31m59.9 MB/s\u001b[0m eta \u001b[36m0:00:00\u001b[0m\n",
      "\u001b[2K   \u001b[90m━━━━━━━━━━━━━━━━━━━━━━━━━━━━━━━━━━━━━━━━\u001b[0m \u001b[32m664.8/664.8 MB\u001b[0m \u001b[31m2.5 MB/s\u001b[0m eta \u001b[36m0:00:00\u001b[0m\n",
      "\u001b[2K   \u001b[90m━━━━━━━━━━━━━━━━━━━━━━━━━━━━━━━━━━━━━━━━\u001b[0m \u001b[32m211.5/211.5 MB\u001b[0m \u001b[31m5.0 MB/s\u001b[0m eta \u001b[36m0:00:00\u001b[0m\n",
      "\u001b[2K   \u001b[90m━━━━━━━━━━━━━━━━━━━━━━━━━━━━━━━━━━━━━━━━\u001b[0m \u001b[32m56.3/56.3 MB\u001b[0m \u001b[31m42.2 MB/s\u001b[0m eta \u001b[36m0:00:00\u001b[0m\n",
      "\u001b[2K   \u001b[90m━━━━━━━━━━━━━━━━━━━━━━━━━━━━━━━━━━━━━━━━\u001b[0m \u001b[32m127.9/127.9 MB\u001b[0m \u001b[31m19.5 MB/s\u001b[0m eta \u001b[36m0:00:00\u001b[0m\n",
      "\u001b[2K   \u001b[90m━━━━━━━━━━━━━━━━━━━━━━━━━━━━━━━━━━━━━━━━\u001b[0m \u001b[32m207.5/207.5 MB\u001b[0m \u001b[31m4.1 MB/s\u001b[0m eta \u001b[36m0:00:00\u001b[0m\n",
      "\u001b[2K   \u001b[90m━━━━━━━━━━━━━━━━━━━━━━━━━━━━━━━━━━━━━━━━\u001b[0m \u001b[32m21.1/21.1 MB\u001b[0m \u001b[31m88.1 MB/s\u001b[0m eta \u001b[36m0:00:00\u001b[0m\n",
      "\u001b[2K   \u001b[90m━━━━━━━━━━━━━━━━━━━━━━━━━━━━━━━━━━━━━━━━\u001b[0m \u001b[32m116.3/116.3 kB\u001b[0m \u001b[31m15.1 MB/s\u001b[0m eta \u001b[36m0:00:00\u001b[0m\n",
      "\u001b[2K   \u001b[90m━━━━━━━━━━━━━━━━━━━━━━━━━━━━━━━━━━━━━━━━\u001b[0m \u001b[32m193.6/193.6 kB\u001b[0m \u001b[31m20.8 MB/s\u001b[0m eta \u001b[36m0:00:00\u001b[0m\n",
      "\u001b[2K   \u001b[90m━━━━━━━━━━━━━━━━━━━━━━━━━━━━━━━━━━━━━━━━\u001b[0m \u001b[32m143.5/143.5 kB\u001b[0m \u001b[31m18.7 MB/s\u001b[0m eta \u001b[36m0:00:00\u001b[0m\n",
      "\u001b[2K   \u001b[90m━━━━━━━━━━━━━━━━━━━━━━━━━━━━━━━━━━━━━━━━\u001b[0m \u001b[32m194.8/194.8 kB\u001b[0m \u001b[31m22.8 MB/s\u001b[0m eta \u001b[36m0:00:00\u001b[0m\n",
      "\u001b[?25h\u001b[31mERROR: pip's dependency resolver does not currently take into account all the packages that are installed. This behaviour is the source of the following dependency conflicts.\n",
      "gcsfs 2025.3.2 requires fsspec==2025.3.2, but you have fsspec 2025.3.0 which is incompatible.\u001b[0m\u001b[31m\n",
      "\u001b[0m"
     ]
    }
   ],
   "source": [
    "# Install only the necessary libraries\n",
    "!pip install -q transformers datasets evaluate huggingface_hub scikit-learn matplotlib seaborn torch pandas"
   ]
  },
  {
   "cell_type": "code",
   "execution_count": null,
   "metadata": {
    "colab": {
     "base_uri": "https://localhost:8080/",
     "height": 17,
     "referenced_widgets": [
      "8793c3d0875244f2801e5bfb850ccc35",
      "924745257fcc4ff69adc9aca8b352049",
      "476b3cb85a8748e09e8c3f47117c4533",
      "2fcaf66f73104228b67e02504763c4b0",
      "007a279221834a42be0c3989b8d89fe1",
      "9bd07575f84c40dfb33869f0ef0b5835",
      "728a6e50d1294ffeabe21579e25a4f34",
      "e3cf716538274e1f973806e3f48459bf",
      "da4aef67e8a54ed381f6151bca076d04",
      "132ea7e2fa2845abb5bcfe5a3b9477ad",
      "b6314f7384f449ee8005a7baf8ed4c23",
      "e49a5e89c2de4bb0972cf5609540d8df",
      "f059ccba1f474de4ae44f4d38dd25846",
      "f9b04184a36d4f1aabc99085ffceb0ee",
      "6729ad39bd1949378dfba098b61ff897",
      "10222cbdf0e74c8b839c8ac4812fbfab",
      "2352c490ff3141bba6fb03e361356e01",
      "e3e66a4e906a44e3b9dc1365d5649e0c",
      "376c997871ef4fd7ae29b3bb5081fb8f",
      "e63ef73de32b4e6990625b4b07db9f87"
     ]
    },
    "collapsed": true,
    "id": "Z1oRwskt_hF_",
    "outputId": "e8ef7cef-d980-41e9-b718-9936f66d7913"
   },
   "outputs": [
    {
     "data": {
      "application/vnd.jupyter.widget-view+json": {
       "model_id": "8793c3d0875244f2801e5bfb850ccc35",
       "version_major": 2,
       "version_minor": 0
      },
      "text/plain": [
       "VBox(children=(HTML(value='<center> <img\\nsrc=https://huggingface.co/front/assets/huggingface_logo-noborder.sv…"
      ]
     },
     "metadata": {},
     "output_type": "display_data"
    }
   ],
   "source": [
    "# Hugging Face login\n",
    "from huggingface_hub import notebook_login\n",
    "notebook_login()"
   ]
  },
  {
   "cell_type": "code",
   "execution_count": null,
   "metadata": {
    "colab": {
     "base_uri": "https://localhost:8080/"
    },
    "collapsed": true,
    "id": "YSJ7E2WOAImt",
    "outputId": "217cf3c6-6b4f-44b2-93a1-ff6c35327168"
   },
   "outputs": [
    {
     "name": "stdout",
     "output_type": "stream",
     "text": [
      "Mounted at /content/drive\n"
     ]
    }
   ],
   "source": [
    "from google.colab import drive\n",
    "drive.mount('/content/drive')"
   ]
  },
  {
   "cell_type": "markdown",
   "metadata": {
    "id": "W5asoClD_D7B"
   },
   "source": [
    "## RoBERTa Model"
   ]
  },
  {
   "cell_type": "code",
   "execution_count": null,
   "metadata": {
    "colab": {
     "base_uri": "https://localhost:8080/"
    },
    "id": "q79wmVQU_CcZ",
    "outputId": "340fa304-eec9-44ef-d64b-0fe17e5ce17a"
   },
   "outputs": [
    {
     "name": "stdout",
     "output_type": "stream",
     "text": [
      "Using device: cuda\n"
     ]
    }
   ],
   "source": [
    "# Step 2) Import Libraries\n",
    "\n",
    "!pip install -q transformers datasets evaluate scikit-learn torch pandas\n",
    "\n",
    "import torch\n",
    "import torch.nn as nn\n",
    "import pandas as pd\n",
    "import numpy as np\n",
    "from transformers import AutoTokenizer, AutoModel\n",
    "from sklearn.model_selection import train_test_split\n",
    "from sklearn.preprocessing import MultiLabelBinarizer\n",
    "from torch.utils.data import Dataset, DataLoader\n",
    "from sklearn.metrics import f1_score, accuracy_score\n",
    "\n",
    "# Check for GPU\n",
    "device = torch.device(\"cuda\" if torch.cuda.is_available() else \"cpu\")\n",
    "print(\"Using device:\", device)"
   ]
  },
  {
   "cell_type": "code",
   "execution_count": null,
   "metadata": {
    "id": "YDjGbpx8DkIl"
   },
   "outputs": [],
   "source": [
    "# Step 3) Load and prepare data\n",
    "\n",
    "import json\n",
    "\n",
    "# Path to your new JSON file\n",
    "json_path = \"/content/drive/MyDrive/bert_datasets/bert_TSclassification_data.json\"\n",
    "\n",
    "# Load JSON data\n",
    "with open(json_path, 'r') as f:\n",
    "    data = json.load(f)\n",
    "\n",
    "# Convert to DataFrame\n",
    "df = pd.DataFrame(data)\n",
    "print(\"Data sample:\")\n",
    "print(df.head())"
   ]
  },
  {
   "cell_type": "code",
   "execution_count": null,
   "metadata": {
    "colab": {
     "base_uri": "https://localhost:8080/",
     "height": 319,
     "referenced_widgets": [
      "fd8c80a8af664e318525db2501338162",
      "1bd6f6e51a19445b950ca445a0febcd5",
      "ee63b10f3574451896ec0cc52acba1cd",
      "86a78610aa4444df9d15d69c3b0e6a64",
      "b0b0a2fa517b4eb78af42955c73069da",
      "3cae8f9e6b4649f6ad5e3d15fa90c889",
      "fbd1ea69a08e4834aa18d05c78a32fa9",
      "8cc4117f611f41948b1795a62788ae56",
      "9db10a00095e458192014bc473eebe3c",
      "fd5e5b15804b4937822feb862132ad27",
      "e93f263baba64c6590e59bd768560c02",
      "4770e00553974bffa4158519ed5572f9",
      "6a23903ae8ac4fdab1c21c6803b56d22",
      "0394757c92114c80be672f8d1c32133e",
      "8936c90e78954f8eb06f646df76146c0",
      "990a125b1e6241c7948b8a9e375c97c4",
      "c6d240e2a0f34cc6b32b72d3ea706683",
      "fc6d8321afec4664bcce61094b25ee82",
      "d6fdc140abea465c8aeec81b53f1a0ce",
      "f471e9f76c7e430aa03944ef1d14c5fd",
      "2fe553f8b6cd4a049d41c7dfd3957b11",
      "0e7773a3c4bd4207978e3fa79c18d117",
      "4fd2d3dfb8ff44eeb22d8dad672f85ea",
      "85d4f547fae24676b12dd4e4d7d5bc1a",
      "83713a4e2200459397bc708d7e94cb22",
      "f239e3696a1648d4be965b95da912837",
      "1bd8695763fd4db9a7d9c9398c8dfdb9",
      "eb24dce09f104a67b9b08e725503a1bb",
      "f8af515d227d49979478d5babd248ddc",
      "637be341aded42ac8a7a5aec1719a9b4",
      "61b0198ff2b94faebd8a949ec67c92ae",
      "e339379c6b0a446ba97683ea4f714503",
      "4143f660eb164048ace773de94fdf4d1",
      "ee5a25f107694c4183ef0bb4b158db34",
      "f12dd29e775f47789dfd7cd1659d9c23",
      "2e62bf13a0bc41fbbf10f10d14beb4e6",
      "858a0f88693140e3976e8d22f5eec56e",
      "1b4e59282b6d4679a0b7ed600dc23f85",
      "cd818caa08294da1a7c1a2d0f82448fb",
      "559635b75e8e4772a3f6c8c89cab72c7",
      "f7dd001718cc49fab0abff106da6a371",
      "e2205f616c1042a195b63233ce610887",
      "ed8ffe94b9064f909dea6298700eb5cd",
      "e43d5bbaa82448b8b47f85d18c79993f",
      "0ca9e08046734f5b9d1cc150bcda2200",
      "f81dfefe6168492d9cc6e734ae389f27",
      "74e8ed82b9884613b4d61e9bc998bc36",
      "54b14295fcac406f83d7ee77b50dd399",
      "bbcfcf1e85394628aa4c38b1de88fb00",
      "d5d7dc0d64e14637aea759246cd628ae",
      "047a6a0d31954a18beab95a3950db539",
      "4cf5c00aaaa74b0a91f983f95214125e",
      "fc0888d29ad14838a2ba25a1ccfc364d",
      "de277f9b8c92472f8ff96c35371b9644",
      "d1cecd329e0541a5a7b72aa2e58d4242"
     ]
    },
    "id": "RKpyjD9-DtOP",
    "outputId": "ceb63a96-573c-4802-afcd-860d1cc8ba16"
   },
   "outputs": [
    {
     "name": "stderr",
     "output_type": "stream",
     "text": [
      "/usr/local/lib/python3.11/dist-packages/huggingface_hub/utils/_auth.py:94: UserWarning: \n",
      "The secret `HF_TOKEN` does not exist in your Colab secrets.\n",
      "To authenticate with the Hugging Face Hub, create a token in your settings tab (https://huggingface.co/settings/tokens), set it as secret in your Google Colab and restart your session.\n",
      "You will be able to reuse this secret in all of your notebooks.\n",
      "Please note that authentication is recommended but still optional to access public models or datasets.\n",
      "  warnings.warn(\n"
     ]
    },
    {
     "data": {
      "application/vnd.jupyter.widget-view+json": {
       "model_id": "fd8c80a8af664e318525db2501338162",
       "version_major": 2,
       "version_minor": 0
      },
      "text/plain": [
       "tokenizer_config.json:   0%|          | 0.00/25.0 [00:00<?, ?B/s]"
      ]
     },
     "metadata": {},
     "output_type": "display_data"
    },
    {
     "data": {
      "application/vnd.jupyter.widget-view+json": {
       "model_id": "4770e00553974bffa4158519ed5572f9",
       "version_major": 2,
       "version_minor": 0
      },
      "text/plain": [
       "config.json:   0%|          | 0.00/481 [00:00<?, ?B/s]"
      ]
     },
     "metadata": {},
     "output_type": "display_data"
    },
    {
     "data": {
      "application/vnd.jupyter.widget-view+json": {
       "model_id": "4fd2d3dfb8ff44eeb22d8dad672f85ea",
       "version_major": 2,
       "version_minor": 0
      },
      "text/plain": [
       "vocab.json:   0%|          | 0.00/899k [00:00<?, ?B/s]"
      ]
     },
     "metadata": {},
     "output_type": "display_data"
    },
    {
     "data": {
      "application/vnd.jupyter.widget-view+json": {
       "model_id": "ee5a25f107694c4183ef0bb4b158db34",
       "version_major": 2,
       "version_minor": 0
      },
      "text/plain": [
       "merges.txt:   0%|          | 0.00/456k [00:00<?, ?B/s]"
      ]
     },
     "metadata": {},
     "output_type": "display_data"
    },
    {
     "data": {
      "application/vnd.jupyter.widget-view+json": {
       "model_id": "0ca9e08046734f5b9d1cc150bcda2200",
       "version_major": 2,
       "version_minor": 0
      },
      "text/plain": [
       "tokenizer.json:   0%|          | 0.00/1.36M [00:00<?, ?B/s]"
      ]
     },
     "metadata": {},
     "output_type": "display_data"
    },
    {
     "name": "stdout",
     "output_type": "stream",
     "text": [
      "Classes: ['[\"Access\"]', '[\"Document change\"]', '[\"Hardware - Application\",\"Document change\"]', '[\"Hardware - Application\",\"Other\"]', '[\"Hardware - Application\"]', '[\"Hardware - Ipad\"]', '[\"Hardware\"]', '[\"Missing documents\",\"Access\"]', '[\"Missing documents\",\"Document change\"]', '[\"Missing documents\"]', '[\"Other\"]']\n"
     ]
    }
   ],
   "source": [
    "# Step 4) Tokenize and Encode Labels (Single-label)\n",
    "\n",
    "from sklearn.preprocessing import LabelEncoder\n",
    "from transformers import AutoTokenizer\n",
    "\n",
    "# Load tokenizer\n",
    "model_ckpt = \"roberta-base\"\n",
    "tokenizer = AutoTokenizer.from_pretrained(model_ckpt)\n",
    "\n",
    "# Tokenize\n",
    "tokenized = tokenizer(\n",
    "    df[\"text\"].tolist(),\n",
    "    padding=True,\n",
    "    truncation=True,\n",
    "    return_tensors=\"pt\"\n",
    ")\n",
    "tokenized.pop(\"token_type_ids\", None)\n",
    "\n",
    "# Encode labels (single-label classification)\n",
    "le = LabelEncoder()\n",
    "y = le.fit_transform(df[\"label\"])\n",
    "num_labels = len(le.classes_)\n",
    "print(\"Classes:\", list(le.classes_))"
   ]
  },
  {
   "cell_type": "code",
   "execution_count": null,
   "metadata": {
    "collapsed": true,
    "id": "0uRHaNpDD4U3"
   },
   "outputs": [],
   "source": [
    "# Step 5) Oversample rare classes & split\n",
    "\n",
    "from collections import Counter\n",
    "\n",
    "# Identify rare classes\n",
    "label_counts = Counter(y)\n",
    "rare_classes = [label for label, count in label_counts.items() if count < 20]\n",
    "\n",
    "# Oversample rare classes\n",
    "rare_df = df[[label in rare_classes for label in y]]\n",
    "df_oversampled = pd.concat([df, rare_df], ignore_index=True)\n",
    "\n",
    "# Re-tokenize and re-encode\n",
    "tokenized = tokenizer(\n",
    "    df_oversampled[\"text\"].tolist(),\n",
    "    padding=True,\n",
    "    truncation=True,\n",
    "    return_tensors=\"pt\"\n",
    ")\n",
    "tokenized.pop(\"token_type_ids\", None)\n",
    "y = le.transform(df_oversampled[\"label\"])\n",
    "\n",
    "# Train-validation split\n",
    "train_idx, val_idx = train_test_split(range(len(df_oversampled)), test_size=0.2, random_state=42, stratify=y)\n",
    "train_inputs = {k: v[train_idx] for k, v in tokenized.items()}\n",
    "val_inputs = {k: v[val_idx] for k, v in tokenized.items()}\n",
    "train_labels = torch.tensor(y[train_idx])\n",
    "val_labels = torch.tensor(y[val_idx])\n"
   ]
  },
  {
   "cell_type": "code",
   "execution_count": null,
   "metadata": {
    "id": "0kybH30eEKXw"
   },
   "outputs": [],
   "source": [
    "# Step 6) Dataset Class (Single-Label)\n",
    "\n",
    "class BertSingleLabelDataset(Dataset):\n",
    "    def __init__(self, inputs, labels):\n",
    "        self.inputs = inputs\n",
    "        self.labels = labels\n",
    "\n",
    "    def __len__(self):\n",
    "        return len(self.labels)\n",
    "\n",
    "    def __getitem__(self, idx):\n",
    "        item = {k: v[idx] for k, v in self.inputs.items()}\n",
    "        item[\"labels\"] = self.labels[idx]\n",
    "        return item\n",
    "\n",
    "train_dataset = BertSingleLabelDataset(train_inputs, train_labels)\n",
    "val_dataset = BertSingleLabelDataset(val_inputs, val_labels)"
   ]
  },
  {
   "cell_type": "code",
   "execution_count": null,
   "metadata": {
    "id": "sTMHKfBzERFH"
   },
   "outputs": [],
   "source": [
    "# Step 7) Define Dataloaders\n",
    "\n",
    "from torch.utils.data import DataLoader\n",
    "\n",
    "# Define DataLoaders\n",
    "train_loader = DataLoader(\n",
    "    train_dataset, batch_size=16, shuffle=True, pin_memory=torch.cuda.is_available()\n",
    ")\n",
    "\n",
    "val_loader = DataLoader(\n",
    "    val_dataset, batch_size=16, shuffle=False, pin_memory=torch.cuda.is_available()\n",
    ")"
   ]
  },
  {
   "cell_type": "code",
   "execution_count": null,
   "metadata": {
    "colab": {
     "base_uri": "https://localhost:8080/",
     "height": 937,
     "referenced_widgets": [
      "d4b8ddf6e62a4b51afed3b374966362b",
      "6ba3c846564c4af8891e793ee5f3d686",
      "0472fea0ce68417ba0a92f33b80309a4",
      "eae97bada58840f5a56353a0833911b1",
      "c1cf312047ac4e37bae4b8499bea58ec",
      "0ba863a609d446a2a8de08bb7e512a3d",
      "dc8dfe74e5f547a8a19977654fa887ce",
      "42eac6e9fc4a4bf0a1fc891dc85f58b1",
      "eae2966ef7a848ef81cafaf116850dab",
      "76278ea100ea45539e4cfe5241cac7ee",
      "16709952b46c4a6d8fee25347f1dd977"
     ]
    },
    "id": "PTzVlmD-EZT2",
    "outputId": "7a981d89-290a-4900-cda2-c5100e28be00"
   },
   "outputs": [
    {
     "name": "stderr",
     "output_type": "stream",
     "text": [
      "Xet Storage is enabled for this repo, but the 'hf_xet' package is not installed. Falling back to regular HTTP download. For better performance, install the package with: `pip install huggingface_hub[hf_xet]` or `pip install hf_xet`\n",
      "WARNING:huggingface_hub.file_download:Xet Storage is enabled for this repo, but the 'hf_xet' package is not installed. Falling back to regular HTTP download. For better performance, install the package with: `pip install huggingface_hub[hf_xet]` or `pip install hf_xet`\n"
     ]
    },
    {
     "data": {
      "application/vnd.jupyter.widget-view+json": {
       "model_id": "d4b8ddf6e62a4b51afed3b374966362b",
       "version_major": 2,
       "version_minor": 0
      },
      "text/plain": [
       "model.safetensors:   0%|          | 0.00/499M [00:00<?, ?B/s]"
      ]
     },
     "metadata": {},
     "output_type": "display_data"
    },
    {
     "name": "stderr",
     "output_type": "stream",
     "text": [
      "Some weights of RobertaModel were not initialized from the model checkpoint at roberta-base and are newly initialized: ['pooler.dense.bias', 'pooler.dense.weight']\n",
      "You should probably TRAIN this model on a down-stream task to be able to use it for predictions and inference.\n"
     ]
    },
    {
     "data": {
      "text/plain": [
       "BertForSingleLabel(\n",
       "  (bert): RobertaModel(\n",
       "    (embeddings): RobertaEmbeddings(\n",
       "      (word_embeddings): Embedding(50265, 768, padding_idx=1)\n",
       "      (position_embeddings): Embedding(514, 768, padding_idx=1)\n",
       "      (token_type_embeddings): Embedding(1, 768)\n",
       "      (LayerNorm): LayerNorm((768,), eps=1e-05, elementwise_affine=True)\n",
       "      (dropout): Dropout(p=0.1, inplace=False)\n",
       "    )\n",
       "    (encoder): RobertaEncoder(\n",
       "      (layer): ModuleList(\n",
       "        (0-11): 12 x RobertaLayer(\n",
       "          (attention): RobertaAttention(\n",
       "            (self): RobertaSdpaSelfAttention(\n",
       "              (query): Linear(in_features=768, out_features=768, bias=True)\n",
       "              (key): Linear(in_features=768, out_features=768, bias=True)\n",
       "              (value): Linear(in_features=768, out_features=768, bias=True)\n",
       "              (dropout): Dropout(p=0.1, inplace=False)\n",
       "            )\n",
       "            (output): RobertaSelfOutput(\n",
       "              (dense): Linear(in_features=768, out_features=768, bias=True)\n",
       "              (LayerNorm): LayerNorm((768,), eps=1e-05, elementwise_affine=True)\n",
       "              (dropout): Dropout(p=0.1, inplace=False)\n",
       "            )\n",
       "          )\n",
       "          (intermediate): RobertaIntermediate(\n",
       "            (dense): Linear(in_features=768, out_features=3072, bias=True)\n",
       "            (intermediate_act_fn): GELUActivation()\n",
       "          )\n",
       "          (output): RobertaOutput(\n",
       "            (dense): Linear(in_features=3072, out_features=768, bias=True)\n",
       "            (LayerNorm): LayerNorm((768,), eps=1e-05, elementwise_affine=True)\n",
       "            (dropout): Dropout(p=0.1, inplace=False)\n",
       "          )\n",
       "        )\n",
       "      )\n",
       "    )\n",
       "    (pooler): RobertaPooler(\n",
       "      (dense): Linear(in_features=768, out_features=768, bias=True)\n",
       "      (activation): Tanh()\n",
       "    )\n",
       "  )\n",
       "  (dropout): Dropout(p=0.3, inplace=False)\n",
       "  (classifier): Linear(in_features=768, out_features=11, bias=True)\n",
       "  (loss_fn): CrossEntropyLoss()\n",
       ")"
      ]
     },
     "execution_count": 7,
     "metadata": {},
     "output_type": "execute_result"
    }
   ],
   "source": [
    "# Step 8) Model Definition (Single-Label, with crossentropy)\n",
    "\n",
    "from transformers import AutoModel\n",
    "\n",
    "class BertForSingleLabel(nn.Module):\n",
    "    def __init__(self, model_name, num_labels, class_weights=None):\n",
    "        super(BertForSingleLabel, self).__init__()\n",
    "        self.bert = AutoModel.from_pretrained(model_name)\n",
    "        self.dropout = nn.Dropout(0.3)\n",
    "        self.classifier = nn.Linear(self.bert.config.hidden_size, num_labels)\n",
    "        self.loss_fn = nn.CrossEntropyLoss(weight=class_weights)\n",
    "\n",
    "    def forward(self, input_ids, attention_mask, labels=None):\n",
    "        outputs = self.bert(input_ids=input_ids, attention_mask=attention_mask)\n",
    "        pooled_output = outputs.last_hidden_state[:, 0]  # CLS token for sentence-level tasks\n",
    "        pooled_output = self.dropout(pooled_output)\n",
    "        logits = self.classifier(pooled_output)\n",
    "\n",
    "        if labels is not None:\n",
    "            loss = self.loss_fn(logits, labels)\n",
    "            return loss, logits\n",
    "\n",
    "        return logits\n",
    "\n",
    "# Set the model checkpoint\n",
    "model_ckpt = \"roberta-base\"\n",
    "\n",
    "# Compute class weights (for imbalanced data)\n",
    "class_sample_counts = np.bincount(y)\n",
    "weights = torch.tensor(len(y) / (num_labels * class_sample_counts), dtype=torch.float).to(device)\n",
    "\n",
    "# Instantiate the model\n",
    "model = BertForSingleLabel(model_ckpt, num_labels=num_labels, class_weights=weights)\n",
    "model.to(device)"
   ]
  },
  {
   "cell_type": "code",
   "execution_count": null,
   "metadata": {
    "id": "_mtGX-WGElNV"
   },
   "outputs": [],
   "source": [
    "# Step 9) Training Setup and Evaluation Functions (with Focal Loss — single-label)\n",
    "\n",
    "from sklearn.metrics import accuracy_score, f1_score\n",
    "import torch.nn.functional as F\n",
    "from tqdm import tqdm\n",
    "import time\n",
    "\n",
    "# Define Focal Loss Function\n",
    "class FocalLoss(nn.Module):\n",
    "    def __init__(self, alpha=1.0, gamma=2.0, weight=None):\n",
    "        super(FocalLoss, self).__init__()\n",
    "        self.alpha = alpha\n",
    "        self.gamma = gamma\n",
    "        self.weight = weight\n",
    "\n",
    "    def forward(self, inputs, targets):\n",
    "        ce_loss = F.cross_entropy(inputs, targets, weight=self.weight, reduction='none')\n",
    "        pt = torch.exp(-ce_loss)\n",
    "        loss = self.alpha * (1 - pt) ** self.gamma * ce_loss\n",
    "        return loss.mean()\n",
    "\n",
    "# Set device again in case\n",
    "device = torch.device(\"cuda\" if torch.cuda.is_available() else \"cpu\")\n",
    "\n",
    "# Optimizer and Focal Loss setup\n",
    "optimizer = torch.optim.AdamW(model.parameters(), lr=5e-6)\n",
    "criterion = FocalLoss(alpha=1.0, gamma=2.0, weight=weights)\n",
    "\n",
    "# Training Loop\n",
    "def train_epoch():\n",
    "    model.train()\n",
    "    total_loss = 0\n",
    "    start_time = time.time()\n",
    "\n",
    "    loop = tqdm(train_loader, desc=\"Training\", leave=False)\n",
    "    for batch in loop:\n",
    "        inputs = {k: v.to(device) for k, v in batch.items() if k != \"labels\"}\n",
    "        labels = batch[\"labels\"].to(device)\n",
    "\n",
    "        optimizer.zero_grad()\n",
    "        outputs = model(**inputs)\n",
    "        loss = criterion(outputs, labels)\n",
    "        loss.backward()\n",
    "        optimizer.step()\n",
    "\n",
    "        total_loss += loss.item()\n",
    "        loop.set_postfix(loss=loss.item())\n",
    "\n",
    "    avg_loss = total_loss / len(train_loader)\n",
    "    epoch_time = time.time() - start_time\n",
    "    print(f\"Train Loss: {avg_loss:.4f} | Time: {epoch_time:.2f}s\")\n",
    "    return avg_loss\n",
    "\n",
    "# Evaluation Loop\n",
    "def evaluate():\n",
    "    model.eval()\n",
    "    preds = []\n",
    "    true_labels = []\n",
    "\n",
    "    with torch.no_grad():\n",
    "        for batch in val_loader:\n",
    "            inputs = {k: v.to(device) for k, v in batch.items() if k != \"labels\"}\n",
    "            labels = batch[\"labels\"].to(device)\n",
    "\n",
    "            outputs = model(**inputs)\n",
    "            pred_labels = torch.argmax(outputs, dim=1).cpu().numpy()\n",
    "            preds.extend(pred_labels)\n",
    "            true_labels.extend(labels.cpu().numpy())\n",
    "\n",
    "    acc = accuracy_score(true_labels, preds)\n",
    "    f1 = f1_score(true_labels, preds, average=\"weighted\", zero_division=0)\n",
    "    return acc, f1"
   ]
  },
  {
   "cell_type": "code",
   "execution_count": null,
   "metadata": {
    "colab": {
     "base_uri": "https://localhost:8080/"
    },
    "id": "WntY1Ib9FLgt",
    "outputId": "799cd9fd-af32-44bd-b3a6-f05c8e125cc1"
   },
   "outputs": [
    {
     "name": "stdout",
     "output_type": "stream",
     "text": [
      "Epoch 1/100\n"
     ]
    },
    {
     "name": "stderr",
     "output_type": "stream",
     "text": []
    },
    {
     "name": "stdout",
     "output_type": "stream",
     "text": [
      "Train Loss: 2.0107 | Time: 2.92s\n",
      "  Training Loss:         2.0107\n",
      "  Validation Accuracy:   0.0165\n",
      "  Validation F1 Score:   0.0005\n",
      "----------------------------------------\n",
      "Best model saved!\n",
      "\n",
      "Epoch 2/100\n"
     ]
    },
    {
     "name": "stderr",
     "output_type": "stream",
     "text": []
    },
    {
     "name": "stdout",
     "output_type": "stream",
     "text": [
      "Train Loss: 1.9987 | Time: 2.49s\n",
      "  Training Loss:         1.9987\n",
      "  Validation Accuracy:   0.0331\n",
      "  Validation F1 Score:   0.0273\n",
      "----------------------------------------\n",
      "Best model saved!\n",
      "\n",
      "Epoch 3/100\n"
     ]
    },
    {
     "name": "stderr",
     "output_type": "stream",
     "text": []
    },
    {
     "name": "stdout",
     "output_type": "stream",
     "text": [
      "Train Loss: 1.9431 | Time: 2.52s\n",
      "  Training Loss:         1.9431\n",
      "  Validation Accuracy:   0.1405\n",
      "  Validation F1 Score:   0.0781\n",
      "----------------------------------------\n",
      "Best model saved!\n",
      "\n",
      "Epoch 4/100\n"
     ]
    },
    {
     "name": "stderr",
     "output_type": "stream",
     "text": []
    },
    {
     "name": "stdout",
     "output_type": "stream",
     "text": [
      "Train Loss: 1.8190 | Time: 2.50s\n",
      "  Training Loss:         1.8190\n",
      "  Validation Accuracy:   0.0579\n",
      "  Validation F1 Score:   0.0442\n",
      "----------------------------------------\n",
      "Epoch 5/100\n"
     ]
    },
    {
     "name": "stderr",
     "output_type": "stream",
     "text": []
    },
    {
     "name": "stdout",
     "output_type": "stream",
     "text": [
      "Train Loss: 1.6832 | Time: 2.50s\n",
      "  Training Loss:         1.6832\n",
      "  Validation Accuracy:   0.1818\n",
      "  Validation F1 Score:   0.1078\n",
      "----------------------------------------\n",
      "Best model saved!\n",
      "\n",
      "Epoch 6/100\n"
     ]
    },
    {
     "name": "stderr",
     "output_type": "stream",
     "text": []
    },
    {
     "name": "stdout",
     "output_type": "stream",
     "text": [
      "Train Loss: 1.3520 | Time: 2.50s\n",
      "  Training Loss:         1.3520\n",
      "  Validation Accuracy:   0.2231\n",
      "  Validation F1 Score:   0.1485\n",
      "----------------------------------------\n",
      "Best model saved!\n",
      "\n",
      "Epoch 7/100\n"
     ]
    },
    {
     "name": "stderr",
     "output_type": "stream",
     "text": []
    },
    {
     "name": "stdout",
     "output_type": "stream",
     "text": [
      "Train Loss: 1.1963 | Time: 2.48s\n",
      "  Training Loss:         1.1963\n",
      "  Validation Accuracy:   0.3058\n",
      "  Validation F1 Score:   0.2448\n",
      "----------------------------------------\n",
      "Best model saved!\n",
      "\n",
      "Epoch 8/100\n"
     ]
    },
    {
     "name": "stderr",
     "output_type": "stream",
     "text": []
    },
    {
     "name": "stdout",
     "output_type": "stream",
     "text": [
      "Train Loss: 0.8242 | Time: 2.50s\n",
      "  Training Loss:         0.8242\n",
      "  Validation Accuracy:   0.2975\n",
      "  Validation F1 Score:   0.2419\n",
      "----------------------------------------\n",
      "Epoch 9/100\n"
     ]
    },
    {
     "name": "stderr",
     "output_type": "stream",
     "text": []
    },
    {
     "name": "stdout",
     "output_type": "stream",
     "text": [
      "Train Loss: 0.6452 | Time: 2.50s\n",
      "  Training Loss:         0.6452\n",
      "  Validation Accuracy:   0.3306\n",
      "  Validation F1 Score:   0.2733\n",
      "----------------------------------------\n",
      "Best model saved!\n",
      "\n",
      "Epoch 10/100\n"
     ]
    },
    {
     "name": "stderr",
     "output_type": "stream",
     "text": []
    },
    {
     "name": "stdout",
     "output_type": "stream",
     "text": [
      "Train Loss: 0.6331 | Time: 2.53s\n",
      "  Training Loss:         0.6331\n",
      "  Validation Accuracy:   0.3554\n",
      "  Validation F1 Score:   0.3083\n",
      "----------------------------------------\n",
      "Best model saved!\n",
      "\n",
      "Epoch 11/100\n"
     ]
    },
    {
     "name": "stderr",
     "output_type": "stream",
     "text": []
    },
    {
     "name": "stdout",
     "output_type": "stream",
     "text": [
      "Train Loss: 0.4474 | Time: 2.50s\n",
      "  Training Loss:         0.4474\n",
      "  Validation Accuracy:   0.3719\n",
      "  Validation F1 Score:   0.3472\n",
      "----------------------------------------\n",
      "Best model saved!\n",
      "\n",
      "Epoch 12/100\n"
     ]
    },
    {
     "name": "stderr",
     "output_type": "stream",
     "text": []
    },
    {
     "name": "stdout",
     "output_type": "stream",
     "text": [
      "Train Loss: 0.3975 | Time: 2.54s\n",
      "  Training Loss:         0.3975\n",
      "  Validation Accuracy:   0.3967\n",
      "  Validation F1 Score:   0.3610\n",
      "----------------------------------------\n",
      "Best model saved!\n",
      "\n",
      "Epoch 13/100\n"
     ]
    },
    {
     "name": "stderr",
     "output_type": "stream",
     "text": []
    },
    {
     "name": "stdout",
     "output_type": "stream",
     "text": [
      "Train Loss: 0.3539 | Time: 2.50s\n",
      "  Training Loss:         0.3539\n",
      "  Validation Accuracy:   0.3802\n",
      "  Validation F1 Score:   0.3458\n",
      "----------------------------------------\n",
      "Epoch 14/100\n"
     ]
    },
    {
     "name": "stderr",
     "output_type": "stream",
     "text": []
    },
    {
     "name": "stdout",
     "output_type": "stream",
     "text": [
      "Train Loss: 0.2686 | Time: 2.52s\n",
      "  Training Loss:         0.2686\n",
      "  Validation Accuracy:   0.3884\n",
      "  Validation F1 Score:   0.3390\n",
      "----------------------------------------\n",
      "Epoch 15/100\n"
     ]
    },
    {
     "name": "stderr",
     "output_type": "stream",
     "text": []
    },
    {
     "name": "stdout",
     "output_type": "stream",
     "text": [
      "Train Loss: 0.2429 | Time: 2.50s\n",
      "  Training Loss:         0.2429\n",
      "  Validation Accuracy:   0.4050\n",
      "  Validation F1 Score:   0.3670\n",
      "----------------------------------------\n",
      "Best model saved!\n",
      "\n",
      "Epoch 16/100\n"
     ]
    },
    {
     "name": "stderr",
     "output_type": "stream",
     "text": []
    },
    {
     "name": "stdout",
     "output_type": "stream",
     "text": [
      "Train Loss: 0.2096 | Time: 2.48s\n",
      "  Training Loss:         0.2096\n",
      "  Validation Accuracy:   0.4215\n",
      "  Validation F1 Score:   0.3977\n",
      "----------------------------------------\n",
      "Best model saved!\n",
      "\n",
      "Epoch 17/100\n"
     ]
    },
    {
     "name": "stderr",
     "output_type": "stream",
     "text": []
    },
    {
     "name": "stdout",
     "output_type": "stream",
     "text": [
      "Train Loss: 0.1754 | Time: 2.51s\n",
      "  Training Loss:         0.1754\n",
      "  Validation Accuracy:   0.4380\n",
      "  Validation F1 Score:   0.4069\n",
      "----------------------------------------\n",
      "Best model saved!\n",
      "\n",
      "Epoch 18/100\n"
     ]
    },
    {
     "name": "stderr",
     "output_type": "stream",
     "text": []
    },
    {
     "name": "stdout",
     "output_type": "stream",
     "text": [
      "Train Loss: 0.1651 | Time: 2.48s\n",
      "  Training Loss:         0.1651\n",
      "  Validation Accuracy:   0.4876\n",
      "  Validation F1 Score:   0.4727\n",
      "----------------------------------------\n",
      "Best model saved!\n",
      "\n",
      "Epoch 19/100\n"
     ]
    },
    {
     "name": "stderr",
     "output_type": "stream",
     "text": []
    },
    {
     "name": "stdout",
     "output_type": "stream",
     "text": [
      "Train Loss: 0.1626 | Time: 2.50s\n",
      "  Training Loss:         0.1626\n",
      "  Validation Accuracy:   0.5041\n",
      "  Validation F1 Score:   0.4871\n",
      "----------------------------------------\n",
      "Best model saved!\n",
      "\n",
      "Epoch 20/100\n"
     ]
    },
    {
     "name": "stderr",
     "output_type": "stream",
     "text": []
    },
    {
     "name": "stdout",
     "output_type": "stream",
     "text": [
      "Train Loss: 0.1415 | Time: 2.51s\n",
      "  Training Loss:         0.1415\n",
      "  Validation Accuracy:   0.4545\n",
      "  Validation F1 Score:   0.4254\n",
      "----------------------------------------\n",
      "Epoch 21/100\n"
     ]
    },
    {
     "name": "stderr",
     "output_type": "stream",
     "text": []
    },
    {
     "name": "stdout",
     "output_type": "stream",
     "text": [
      "Train Loss: 0.1373 | Time: 2.52s\n",
      "  Training Loss:         0.1373\n",
      "  Validation Accuracy:   0.4628\n",
      "  Validation F1 Score:   0.4422\n",
      "----------------------------------------\n",
      "Epoch 22/100\n"
     ]
    },
    {
     "name": "stderr",
     "output_type": "stream",
     "text": []
    },
    {
     "name": "stdout",
     "output_type": "stream",
     "text": [
      "Train Loss: 0.1064 | Time: 2.51s\n",
      "  Training Loss:         0.1064\n",
      "  Validation Accuracy:   0.5207\n",
      "  Validation F1 Score:   0.5092\n",
      "----------------------------------------\n",
      "Best model saved!\n",
      "\n",
      "Epoch 23/100\n"
     ]
    },
    {
     "name": "stderr",
     "output_type": "stream",
     "text": []
    },
    {
     "name": "stdout",
     "output_type": "stream",
     "text": [
      "Train Loss: 0.1019 | Time: 2.52s\n",
      "  Training Loss:         0.1019\n",
      "  Validation Accuracy:   0.5289\n",
      "  Validation F1 Score:   0.5197\n",
      "----------------------------------------\n",
      "Best model saved!\n",
      "\n",
      "Epoch 24/100\n"
     ]
    },
    {
     "name": "stderr",
     "output_type": "stream",
     "text": []
    },
    {
     "name": "stdout",
     "output_type": "stream",
     "text": [
      "Train Loss: 0.0922 | Time: 2.51s\n",
      "  Training Loss:         0.0922\n",
      "  Validation Accuracy:   0.5372\n",
      "  Validation F1 Score:   0.5304\n",
      "----------------------------------------\n",
      "Best model saved!\n",
      "\n",
      "Epoch 25/100\n"
     ]
    },
    {
     "name": "stderr",
     "output_type": "stream",
     "text": []
    },
    {
     "name": "stdout",
     "output_type": "stream",
     "text": [
      "Train Loss: 0.0868 | Time: 2.51s\n",
      "  Training Loss:         0.0868\n",
      "  Validation Accuracy:   0.5537\n",
      "  Validation F1 Score:   0.5468\n",
      "----------------------------------------\n",
      "Best model saved!\n",
      "\n",
      "Epoch 26/100\n"
     ]
    },
    {
     "name": "stderr",
     "output_type": "stream",
     "text": []
    },
    {
     "name": "stdout",
     "output_type": "stream",
     "text": [
      "Train Loss: 0.0809 | Time: 2.51s\n",
      "  Training Loss:         0.0809\n",
      "  Validation Accuracy:   0.5041\n",
      "  Validation F1 Score:   0.4929\n",
      "----------------------------------------\n",
      "Epoch 27/100\n"
     ]
    },
    {
     "name": "stderr",
     "output_type": "stream",
     "text": []
    },
    {
     "name": "stdout",
     "output_type": "stream",
     "text": [
      "Train Loss: 0.0780 | Time: 2.50s\n",
      "  Training Loss:         0.0780\n",
      "  Validation Accuracy:   0.5455\n",
      "  Validation F1 Score:   0.5381\n",
      "----------------------------------------\n",
      "Epoch 28/100\n"
     ]
    },
    {
     "name": "stderr",
     "output_type": "stream",
     "text": []
    },
    {
     "name": "stdout",
     "output_type": "stream",
     "text": [
      "Train Loss: 0.0820 | Time: 2.53s\n",
      "  Training Loss:         0.0820\n",
      "  Validation Accuracy:   0.5207\n",
      "  Validation F1 Score:   0.5078\n",
      "----------------------------------------\n",
      "Epoch 29/100\n"
     ]
    },
    {
     "name": "stderr",
     "output_type": "stream",
     "text": []
    },
    {
     "name": "stdout",
     "output_type": "stream",
     "text": [
      "Train Loss: 0.0693 | Time: 2.53s\n",
      "  Training Loss:         0.0693\n",
      "  Validation Accuracy:   0.5372\n",
      "  Validation F1 Score:   0.5250\n",
      "----------------------------------------\n",
      "Epoch 30/100\n"
     ]
    },
    {
     "name": "stderr",
     "output_type": "stream",
     "text": []
    },
    {
     "name": "stdout",
     "output_type": "stream",
     "text": [
      "Train Loss: 0.0637 | Time: 2.50s\n",
      "  Training Loss:         0.0637\n",
      "  Validation Accuracy:   0.5537\n",
      "  Validation F1 Score:   0.5494\n",
      "----------------------------------------\n",
      "Best model saved!\n",
      "\n",
      "Epoch 31/100\n"
     ]
    },
    {
     "name": "stderr",
     "output_type": "stream",
     "text": []
    },
    {
     "name": "stdout",
     "output_type": "stream",
     "text": [
      "Train Loss: 0.0574 | Time: 2.50s\n",
      "  Training Loss:         0.0574\n",
      "  Validation Accuracy:   0.5124\n",
      "  Validation F1 Score:   0.5014\n",
      "----------------------------------------\n",
      "Epoch 32/100\n"
     ]
    },
    {
     "name": "stderr",
     "output_type": "stream",
     "text": []
    },
    {
     "name": "stdout",
     "output_type": "stream",
     "text": [
      "Train Loss: 0.0656 | Time: 2.50s\n",
      "  Training Loss:         0.0656\n",
      "  Validation Accuracy:   0.5372\n",
      "  Validation F1 Score:   0.5268\n",
      "----------------------------------------\n",
      "Epoch 33/100\n"
     ]
    },
    {
     "name": "stderr",
     "output_type": "stream",
     "text": []
    },
    {
     "name": "stdout",
     "output_type": "stream",
     "text": [
      "Train Loss: 0.0580 | Time: 2.51s\n",
      "  Training Loss:         0.0580\n",
      "  Validation Accuracy:   0.5537\n",
      "  Validation F1 Score:   0.5496\n",
      "----------------------------------------\n",
      "Best model saved!\n",
      "\n",
      "Epoch 34/100\n"
     ]
    },
    {
     "name": "stderr",
     "output_type": "stream",
     "text": []
    },
    {
     "name": "stdout",
     "output_type": "stream",
     "text": [
      "Train Loss: 0.0581 | Time: 2.50s\n",
      "  Training Loss:         0.0581\n",
      "  Validation Accuracy:   0.5289\n",
      "  Validation F1 Score:   0.5256\n",
      "----------------------------------------\n",
      "Epoch 35/100\n"
     ]
    },
    {
     "name": "stderr",
     "output_type": "stream",
     "text": []
    },
    {
     "name": "stdout",
     "output_type": "stream",
     "text": [
      "Train Loss: 0.0597 | Time: 2.51s\n",
      "  Training Loss:         0.0597\n",
      "  Validation Accuracy:   0.5289\n",
      "  Validation F1 Score:   0.5175\n",
      "----------------------------------------\n",
      "Epoch 36/100\n"
     ]
    },
    {
     "name": "stderr",
     "output_type": "stream",
     "text": []
    },
    {
     "name": "stdout",
     "output_type": "stream",
     "text": [
      "Train Loss: 0.0565 | Time: 2.51s\n",
      "  Training Loss:         0.0565\n",
      "  Validation Accuracy:   0.5785\n",
      "  Validation F1 Score:   0.5774\n",
      "----------------------------------------\n",
      "Best model saved!\n",
      "\n",
      "Epoch 37/100\n"
     ]
    },
    {
     "name": "stderr",
     "output_type": "stream",
     "text": []
    },
    {
     "name": "stdout",
     "output_type": "stream",
     "text": [
      "Train Loss: 0.0562 | Time: 2.52s\n",
      "  Training Loss:         0.0562\n",
      "  Validation Accuracy:   0.5785\n",
      "  Validation F1 Score:   0.5758\n",
      "----------------------------------------\n",
      "Epoch 38/100\n"
     ]
    },
    {
     "name": "stderr",
     "output_type": "stream",
     "text": []
    },
    {
     "name": "stdout",
     "output_type": "stream",
     "text": [
      "Train Loss: 0.0495 | Time: 2.52s\n",
      "  Training Loss:         0.0495\n",
      "  Validation Accuracy:   0.5455\n",
      "  Validation F1 Score:   0.5483\n",
      "----------------------------------------\n",
      "Epoch 39/100\n"
     ]
    },
    {
     "name": "stderr",
     "output_type": "stream",
     "text": []
    },
    {
     "name": "stdout",
     "output_type": "stream",
     "text": [
      "Train Loss: 0.0439 | Time: 2.50s\n",
      "  Training Loss:         0.0439\n",
      "  Validation Accuracy:   0.5455\n",
      "  Validation F1 Score:   0.5483\n",
      "----------------------------------------\n",
      "Epoch 40/100\n"
     ]
    },
    {
     "name": "stderr",
     "output_type": "stream",
     "text": []
    },
    {
     "name": "stdout",
     "output_type": "stream",
     "text": [
      "Train Loss: 0.0552 | Time: 2.51s\n",
      "  Training Loss:         0.0552\n",
      "  Validation Accuracy:   0.5785\n",
      "  Validation F1 Score:   0.5810\n",
      "----------------------------------------\n",
      "Best model saved!\n",
      "\n",
      "Epoch 41/100\n"
     ]
    },
    {
     "name": "stderr",
     "output_type": "stream",
     "text": []
    },
    {
     "name": "stdout",
     "output_type": "stream",
     "text": [
      "Train Loss: 0.0449 | Time: 2.51s\n",
      "  Training Loss:         0.0449\n",
      "  Validation Accuracy:   0.5372\n",
      "  Validation F1 Score:   0.5319\n",
      "----------------------------------------\n",
      "Epoch 42/100\n"
     ]
    },
    {
     "name": "stderr",
     "output_type": "stream",
     "text": []
    },
    {
     "name": "stdout",
     "output_type": "stream",
     "text": [
      "Train Loss: 0.0416 | Time: 2.53s\n",
      "  Training Loss:         0.0416\n",
      "  Validation Accuracy:   0.5785\n",
      "  Validation F1 Score:   0.5770\n",
      "----------------------------------------\n",
      "Epoch 43/100\n"
     ]
    },
    {
     "name": "stderr",
     "output_type": "stream",
     "text": []
    },
    {
     "name": "stdout",
     "output_type": "stream",
     "text": [
      "Train Loss: 0.0390 | Time: 2.51s\n",
      "  Training Loss:         0.0390\n",
      "  Validation Accuracy:   0.5537\n",
      "  Validation F1 Score:   0.5564\n",
      "----------------------------------------\n",
      "Epoch 44/100\n"
     ]
    },
    {
     "name": "stderr",
     "output_type": "stream",
     "text": []
    },
    {
     "name": "stdout",
     "output_type": "stream",
     "text": [
      "Train Loss: 0.0430 | Time: 2.51s\n",
      "  Training Loss:         0.0430\n",
      "  Validation Accuracy:   0.5455\n",
      "  Validation F1 Score:   0.5411\n",
      "----------------------------------------\n",
      "Epoch 45/100\n"
     ]
    },
    {
     "name": "stderr",
     "output_type": "stream",
     "text": []
    },
    {
     "name": "stdout",
     "output_type": "stream",
     "text": [
      "Train Loss: 0.0365 | Time: 2.52s\n",
      "  Training Loss:         0.0365\n",
      "  Validation Accuracy:   0.6033\n",
      "  Validation F1 Score:   0.6072\n",
      "----------------------------------------\n",
      "Best model saved!\n",
      "\n",
      "Epoch 46/100\n"
     ]
    },
    {
     "name": "stderr",
     "output_type": "stream",
     "text": []
    },
    {
     "name": "stdout",
     "output_type": "stream",
     "text": [
      "Train Loss: 0.0364 | Time: 2.52s\n",
      "  Training Loss:         0.0364\n",
      "  Validation Accuracy:   0.5702\n",
      "  Validation F1 Score:   0.5725\n",
      "----------------------------------------\n",
      "Epoch 47/100\n"
     ]
    },
    {
     "name": "stderr",
     "output_type": "stream",
     "text": []
    },
    {
     "name": "stdout",
     "output_type": "stream",
     "text": [
      "Train Loss: 0.0347 | Time: 2.52s\n",
      "  Training Loss:         0.0347\n",
      "  Validation Accuracy:   0.5785\n",
      "  Validation F1 Score:   0.5799\n",
      "----------------------------------------\n",
      "Epoch 48/100\n"
     ]
    },
    {
     "name": "stderr",
     "output_type": "stream",
     "text": []
    },
    {
     "name": "stdout",
     "output_type": "stream",
     "text": [
      "Train Loss: 0.0371 | Time: 2.51s\n",
      "  Training Loss:         0.0371\n",
      "  Validation Accuracy:   0.5455\n",
      "  Validation F1 Score:   0.5357\n",
      "----------------------------------------\n",
      "Epoch 49/100\n"
     ]
    },
    {
     "name": "stderr",
     "output_type": "stream",
     "text": []
    },
    {
     "name": "stdout",
     "output_type": "stream",
     "text": [
      "Train Loss: 0.0365 | Time: 2.52s\n",
      "  Training Loss:         0.0365\n",
      "  Validation Accuracy:   0.5868\n",
      "  Validation F1 Score:   0.5969\n",
      "----------------------------------------\n",
      "Epoch 50/100\n"
     ]
    },
    {
     "name": "stderr",
     "output_type": "stream",
     "text": []
    },
    {
     "name": "stdout",
     "output_type": "stream",
     "text": [
      "Train Loss: 0.0320 | Time: 2.54s\n",
      "  Training Loss:         0.0320\n",
      "  Validation Accuracy:   0.5702\n",
      "  Validation F1 Score:   0.5709\n",
      "----------------------------------------\n",
      "Epoch 51/100\n"
     ]
    },
    {
     "name": "stderr",
     "output_type": "stream",
     "text": []
    },
    {
     "name": "stdout",
     "output_type": "stream",
     "text": [
      "Train Loss: 0.0283 | Time: 2.53s\n",
      "  Training Loss:         0.0283\n",
      "  Validation Accuracy:   0.6198\n",
      "  Validation F1 Score:   0.6261\n",
      "----------------------------------------\n",
      "Best model saved!\n",
      "\n",
      "Epoch 52/100\n"
     ]
    },
    {
     "name": "stderr",
     "output_type": "stream",
     "text": []
    },
    {
     "name": "stdout",
     "output_type": "stream",
     "text": [
      "Train Loss: 0.0284 | Time: 2.53s\n",
      "  Training Loss:         0.0284\n",
      "  Validation Accuracy:   0.6033\n",
      "  Validation F1 Score:   0.6096\n",
      "----------------------------------------\n",
      "Epoch 53/100\n"
     ]
    },
    {
     "name": "stderr",
     "output_type": "stream",
     "text": []
    },
    {
     "name": "stdout",
     "output_type": "stream",
     "text": [
      "Train Loss: 0.0284 | Time: 2.53s\n",
      "  Training Loss:         0.0284\n",
      "  Validation Accuracy:   0.6116\n",
      "  Validation F1 Score:   0.6168\n",
      "----------------------------------------\n",
      "Epoch 54/100\n"
     ]
    },
    {
     "name": "stderr",
     "output_type": "stream",
     "text": []
    },
    {
     "name": "stdout",
     "output_type": "stream",
     "text": [
      "Train Loss: 0.0293 | Time: 2.53s\n",
      "  Training Loss:         0.0293\n",
      "  Validation Accuracy:   0.5785\n",
      "  Validation F1 Score:   0.5894\n",
      "----------------------------------------\n",
      "Epoch 55/100\n"
     ]
    },
    {
     "name": "stderr",
     "output_type": "stream",
     "text": []
    },
    {
     "name": "stdout",
     "output_type": "stream",
     "text": [
      "Train Loss: 0.0354 | Time: 2.52s\n",
      "  Training Loss:         0.0354\n",
      "  Validation Accuracy:   0.5537\n",
      "  Validation F1 Score:   0.5473\n",
      "----------------------------------------\n",
      "Epoch 56/100\n"
     ]
    },
    {
     "name": "stderr",
     "output_type": "stream",
     "text": []
    },
    {
     "name": "stdout",
     "output_type": "stream",
     "text": [
      "Train Loss: 0.0287 | Time: 2.50s\n",
      "  Training Loss:         0.0287\n",
      "  Validation Accuracy:   0.5868\n",
      "  Validation F1 Score:   0.5923\n",
      "----------------------------------------\n",
      "Epoch 57/100\n"
     ]
    },
    {
     "name": "stderr",
     "output_type": "stream",
     "text": []
    },
    {
     "name": "stdout",
     "output_type": "stream",
     "text": [
      "Train Loss: 0.0254 | Time: 2.52s\n",
      "  Training Loss:         0.0254\n",
      "  Validation Accuracy:   0.5702\n",
      "  Validation F1 Score:   0.5759\n",
      "----------------------------------------\n",
      "Epoch 58/100\n"
     ]
    },
    {
     "name": "stderr",
     "output_type": "stream",
     "text": []
    },
    {
     "name": "stdout",
     "output_type": "stream",
     "text": [
      "Train Loss: 0.0259 | Time: 2.53s\n",
      "  Training Loss:         0.0259\n",
      "  Validation Accuracy:   0.5950\n",
      "  Validation F1 Score:   0.6005\n",
      "----------------------------------------\n",
      "Epoch 59/100\n"
     ]
    },
    {
     "name": "stderr",
     "output_type": "stream",
     "text": []
    },
    {
     "name": "stdout",
     "output_type": "stream",
     "text": [
      "Train Loss: 0.0250 | Time: 2.54s\n",
      "  Training Loss:         0.0250\n",
      "  Validation Accuracy:   0.5950\n",
      "  Validation F1 Score:   0.6042\n",
      "----------------------------------------\n",
      "Epoch 60/100\n"
     ]
    },
    {
     "name": "stderr",
     "output_type": "stream",
     "text": []
    },
    {
     "name": "stdout",
     "output_type": "stream",
     "text": [
      "Train Loss: 0.0283 | Time: 2.54s\n",
      "  Training Loss:         0.0283\n",
      "  Validation Accuracy:   0.5702\n",
      "  Validation F1 Score:   0.5702\n",
      "----------------------------------------\n",
      "Epoch 61/100\n"
     ]
    },
    {
     "name": "stderr",
     "output_type": "stream",
     "text": []
    },
    {
     "name": "stdout",
     "output_type": "stream",
     "text": [
      "Train Loss: 0.0217 | Time: 2.53s\n",
      "  Training Loss:         0.0217\n",
      "  Validation Accuracy:   0.6116\n",
      "  Validation F1 Score:   0.6146\n",
      "----------------------------------------\n",
      "Epoch 62/100\n"
     ]
    },
    {
     "name": "stderr",
     "output_type": "stream",
     "text": []
    },
    {
     "name": "stdout",
     "output_type": "stream",
     "text": [
      "Train Loss: 0.0252 | Time: 2.51s\n",
      "  Training Loss:         0.0252\n",
      "  Validation Accuracy:   0.6033\n",
      "  Validation F1 Score:   0.6122\n",
      "----------------------------------------\n",
      "Epoch 63/100\n"
     ]
    },
    {
     "name": "stderr",
     "output_type": "stream",
     "text": []
    },
    {
     "name": "stdout",
     "output_type": "stream",
     "text": [
      "Train Loss: 0.0194 | Time: 2.52s\n",
      "  Training Loss:         0.0194\n",
      "  Validation Accuracy:   0.5868\n",
      "  Validation F1 Score:   0.5858\n",
      "----------------------------------------\n",
      "Epoch 64/100\n"
     ]
    },
    {
     "name": "stderr",
     "output_type": "stream",
     "text": []
    },
    {
     "name": "stdout",
     "output_type": "stream",
     "text": [
      "Train Loss: 0.0213 | Time: 2.53s\n",
      "  Training Loss:         0.0213\n",
      "  Validation Accuracy:   0.6281\n",
      "  Validation F1 Score:   0.6378\n",
      "----------------------------------------\n",
      "Best model saved!\n",
      "\n",
      "Epoch 65/100\n"
     ]
    },
    {
     "name": "stderr",
     "output_type": "stream",
     "text": []
    },
    {
     "name": "stdout",
     "output_type": "stream",
     "text": [
      "Train Loss: 0.0195 | Time: 2.52s\n",
      "  Training Loss:         0.0195\n",
      "  Validation Accuracy:   0.6281\n",
      "  Validation F1 Score:   0.6378\n",
      "----------------------------------------\n",
      "Epoch 66/100\n"
     ]
    },
    {
     "name": "stderr",
     "output_type": "stream",
     "text": []
    },
    {
     "name": "stdout",
     "output_type": "stream",
     "text": [
      "Train Loss: 0.0212 | Time: 2.52s\n",
      "  Training Loss:         0.0212\n",
      "  Validation Accuracy:   0.6116\n",
      "  Validation F1 Score:   0.6126\n",
      "----------------------------------------\n",
      "Epoch 67/100\n"
     ]
    },
    {
     "name": "stderr",
     "output_type": "stream",
     "text": []
    },
    {
     "name": "stdout",
     "output_type": "stream",
     "text": [
      "Train Loss: 0.0160 | Time: 2.52s\n",
      "  Training Loss:         0.0160\n",
      "  Validation Accuracy:   0.5868\n",
      "  Validation F1 Score:   0.5894\n",
      "----------------------------------------\n",
      "Epoch 68/100\n"
     ]
    },
    {
     "name": "stderr",
     "output_type": "stream",
     "text": []
    },
    {
     "name": "stdout",
     "output_type": "stream",
     "text": [
      "Train Loss: 0.0186 | Time: 2.54s\n",
      "  Training Loss:         0.0186\n",
      "  Validation Accuracy:   0.5372\n",
      "  Validation F1 Score:   0.5340\n",
      "----------------------------------------\n",
      "Epoch 69/100\n"
     ]
    },
    {
     "name": "stderr",
     "output_type": "stream",
     "text": []
    },
    {
     "name": "stdout",
     "output_type": "stream",
     "text": [
      "Train Loss: 0.0218 | Time: 2.52s\n",
      "  Training Loss:         0.0218\n",
      "  Validation Accuracy:   0.6116\n",
      "  Validation F1 Score:   0.6238\n",
      "----------------------------------------\n",
      "Epoch 70/100\n"
     ]
    },
    {
     "name": "stderr",
     "output_type": "stream",
     "text": []
    },
    {
     "name": "stdout",
     "output_type": "stream",
     "text": [
      "Train Loss: 0.0181 | Time: 2.53s\n",
      "  Training Loss:         0.0181\n",
      "  Validation Accuracy:   0.6281\n",
      "  Validation F1 Score:   0.6377\n",
      "----------------------------------------\n",
      "Epoch 71/100\n"
     ]
    },
    {
     "name": "stderr",
     "output_type": "stream",
     "text": []
    },
    {
     "name": "stdout",
     "output_type": "stream",
     "text": [
      "Train Loss: 0.0182 | Time: 2.53s\n",
      "  Training Loss:         0.0182\n",
      "  Validation Accuracy:   0.5950\n",
      "  Validation F1 Score:   0.6071\n",
      "----------------------------------------\n",
      "Epoch 72/100\n"
     ]
    },
    {
     "name": "stderr",
     "output_type": "stream",
     "text": []
    },
    {
     "name": "stdout",
     "output_type": "stream",
     "text": [
      "Train Loss: 0.0188 | Time: 2.53s\n",
      "  Training Loss:         0.0188\n",
      "  Validation Accuracy:   0.5950\n",
      "  Validation F1 Score:   0.6026\n",
      "----------------------------------------\n",
      "Epoch 73/100\n"
     ]
    },
    {
     "name": "stderr",
     "output_type": "stream",
     "text": []
    },
    {
     "name": "stdout",
     "output_type": "stream",
     "text": [
      "Train Loss: 0.0184 | Time: 2.51s\n",
      "  Training Loss:         0.0184\n",
      "  Validation Accuracy:   0.6116\n",
      "  Validation F1 Score:   0.6190\n",
      "----------------------------------------\n",
      "Epoch 74/100\n"
     ]
    },
    {
     "name": "stderr",
     "output_type": "stream",
     "text": []
    },
    {
     "name": "stdout",
     "output_type": "stream",
     "text": [
      "Train Loss: 0.0158 | Time: 2.50s\n",
      "  Training Loss:         0.0158\n",
      "  Validation Accuracy:   0.6198\n",
      "  Validation F1 Score:   0.6272\n",
      "----------------------------------------\n",
      "Epoch 75/100\n"
     ]
    },
    {
     "name": "stderr",
     "output_type": "stream",
     "text": []
    },
    {
     "name": "stdout",
     "output_type": "stream",
     "text": [
      "Train Loss: 0.0142 | Time: 2.52s\n",
      "  Training Loss:         0.0142\n",
      "  Validation Accuracy:   0.5950\n",
      "  Validation F1 Score:   0.5982\n",
      "----------------------------------------\n",
      "Epoch 76/100\n"
     ]
    },
    {
     "name": "stderr",
     "output_type": "stream",
     "text": []
    },
    {
     "name": "stdout",
     "output_type": "stream",
     "text": [
      "Train Loss: 0.0157 | Time: 2.52s\n",
      "  Training Loss:         0.0157\n",
      "  Validation Accuracy:   0.5868\n",
      "  Validation F1 Score:   0.5959\n",
      "----------------------------------------\n",
      "Epoch 77/100\n"
     ]
    },
    {
     "name": "stderr",
     "output_type": "stream",
     "text": []
    },
    {
     "name": "stdout",
     "output_type": "stream",
     "text": [
      "Train Loss: 0.0145 | Time: 2.53s\n",
      "  Training Loss:         0.0145\n",
      "  Validation Accuracy:   0.6198\n",
      "  Validation F1 Score:   0.6258\n",
      "----------------------------------------\n",
      "Epoch 78/100\n"
     ]
    },
    {
     "name": "stderr",
     "output_type": "stream",
     "text": []
    },
    {
     "name": "stdout",
     "output_type": "stream",
     "text": [
      "Train Loss: 0.0178 | Time: 2.52s\n",
      "  Training Loss:         0.0178\n",
      "  Validation Accuracy:   0.6033\n",
      "  Validation F1 Score:   0.6125\n",
      "----------------------------------------\n",
      "Epoch 79/100\n"
     ]
    },
    {
     "name": "stderr",
     "output_type": "stream",
     "text": []
    },
    {
     "name": "stdout",
     "output_type": "stream",
     "text": [
      "Train Loss: 0.0314 | Time: 2.51s\n",
      "  Training Loss:         0.0314\n",
      "  Validation Accuracy:   0.5868\n",
      "  Validation F1 Score:   0.5958\n",
      "----------------------------------------\n",
      "Epoch 80/100\n"
     ]
    },
    {
     "name": "stderr",
     "output_type": "stream",
     "text": []
    },
    {
     "name": "stdout",
     "output_type": "stream",
     "text": [
      "Train Loss: 0.0840 | Time: 2.51s\n",
      "  Training Loss:         0.0840\n",
      "  Validation Accuracy:   0.5455\n",
      "  Validation F1 Score:   0.5447\n",
      "----------------------------------------\n",
      "Epoch 81/100\n"
     ]
    },
    {
     "name": "stderr",
     "output_type": "stream",
     "text": []
    },
    {
     "name": "stdout",
     "output_type": "stream",
     "text": [
      "Train Loss: 0.0399 | Time: 2.53s\n",
      "  Training Loss:         0.0399\n",
      "  Validation Accuracy:   0.5950\n",
      "  Validation F1 Score:   0.6090\n",
      "----------------------------------------\n",
      "Epoch 82/100\n"
     ]
    },
    {
     "name": "stderr",
     "output_type": "stream",
     "text": []
    },
    {
     "name": "stdout",
     "output_type": "stream",
     "text": [
      "Train Loss: 0.0391 | Time: 2.55s\n",
      "  Training Loss:         0.0391\n",
      "  Validation Accuracy:   0.5868\n",
      "  Validation F1 Score:   0.5924\n",
      "----------------------------------------\n",
      "Epoch 83/100\n"
     ]
    },
    {
     "name": "stderr",
     "output_type": "stream",
     "text": []
    },
    {
     "name": "stdout",
     "output_type": "stream",
     "text": [
      "Train Loss: 0.0207 | Time: 2.51s\n",
      "  Training Loss:         0.0207\n",
      "  Validation Accuracy:   0.5868\n",
      "  Validation F1 Score:   0.5919\n",
      "----------------------------------------\n",
      "Epoch 84/100\n"
     ]
    },
    {
     "name": "stderr",
     "output_type": "stream",
     "text": []
    },
    {
     "name": "stdout",
     "output_type": "stream",
     "text": [
      "Train Loss: 0.0188 | Time: 2.53s\n",
      "  Training Loss:         0.0188\n",
      "  Validation Accuracy:   0.6033\n",
      "  Validation F1 Score:   0.6068\n",
      "----------------------------------------\n",
      "Epoch 85/100\n"
     ]
    },
    {
     "name": "stderr",
     "output_type": "stream",
     "text": []
    },
    {
     "name": "stdout",
     "output_type": "stream",
     "text": [
      "Train Loss: 0.0130 | Time: 2.52s\n",
      "  Training Loss:         0.0130\n",
      "  Validation Accuracy:   0.6116\n",
      "  Validation F1 Score:   0.6118\n",
      "----------------------------------------\n",
      "Epoch 86/100\n"
     ]
    },
    {
     "name": "stderr",
     "output_type": "stream",
     "text": []
    },
    {
     "name": "stdout",
     "output_type": "stream",
     "text": [
      "Train Loss: 0.0140 | Time: 2.51s\n",
      "  Training Loss:         0.0140\n",
      "  Validation Accuracy:   0.5950\n",
      "  Validation F1 Score:   0.5994\n",
      "----------------------------------------\n",
      "Epoch 87/100\n"
     ]
    },
    {
     "name": "stderr",
     "output_type": "stream",
     "text": []
    },
    {
     "name": "stdout",
     "output_type": "stream",
     "text": [
      "Train Loss: 0.0117 | Time: 2.53s\n",
      "  Training Loss:         0.0117\n",
      "  Validation Accuracy:   0.6198\n",
      "  Validation F1 Score:   0.6226\n",
      "----------------------------------------\n",
      "Epoch 88/100\n"
     ]
    },
    {
     "name": "stderr",
     "output_type": "stream",
     "text": []
    },
    {
     "name": "stdout",
     "output_type": "stream",
     "text": [
      "Train Loss: 0.0123 | Time: 2.52s\n",
      "  Training Loss:         0.0123\n",
      "  Validation Accuracy:   0.6198\n",
      "  Validation F1 Score:   0.6266\n",
      "----------------------------------------\n",
      "Epoch 89/100\n"
     ]
    },
    {
     "name": "stderr",
     "output_type": "stream",
     "text": []
    },
    {
     "name": "stdout",
     "output_type": "stream",
     "text": [
      "Train Loss: 0.0198 | Time: 2.53s\n",
      "  Training Loss:         0.0198\n",
      "  Validation Accuracy:   0.5950\n",
      "  Validation F1 Score:   0.5946\n",
      "----------------------------------------\n",
      "Epoch 90/100\n"
     ]
    },
    {
     "name": "stderr",
     "output_type": "stream",
     "text": []
    },
    {
     "name": "stdout",
     "output_type": "stream",
     "text": [
      "Train Loss: 0.0119 | Time: 2.51s\n",
      "  Training Loss:         0.0119\n",
      "  Validation Accuracy:   0.5868\n",
      "  Validation F1 Score:   0.5876\n",
      "----------------------------------------\n",
      "Epoch 91/100\n"
     ]
    },
    {
     "name": "stderr",
     "output_type": "stream",
     "text": []
    },
    {
     "name": "stdout",
     "output_type": "stream",
     "text": [
      "Train Loss: 0.0120 | Time: 2.54s\n",
      "  Training Loss:         0.0120\n",
      "  Validation Accuracy:   0.5620\n",
      "  Validation F1 Score:   0.5674\n",
      "----------------------------------------\n",
      "Epoch 92/100\n"
     ]
    },
    {
     "name": "stderr",
     "output_type": "stream",
     "text": []
    },
    {
     "name": "stdout",
     "output_type": "stream",
     "text": [
      "Train Loss: 0.0092 | Time: 2.53s\n",
      "  Training Loss:         0.0092\n",
      "  Validation Accuracy:   0.6033\n",
      "  Validation F1 Score:   0.6134\n",
      "----------------------------------------\n",
      "Epoch 93/100\n"
     ]
    },
    {
     "name": "stderr",
     "output_type": "stream",
     "text": []
    },
    {
     "name": "stdout",
     "output_type": "stream",
     "text": [
      "Train Loss: 0.0127 | Time: 2.52s\n",
      "  Training Loss:         0.0127\n",
      "  Validation Accuracy:   0.5868\n",
      "  Validation F1 Score:   0.5932\n",
      "----------------------------------------\n",
      "Epoch 94/100\n"
     ]
    },
    {
     "name": "stderr",
     "output_type": "stream",
     "text": []
    },
    {
     "name": "stdout",
     "output_type": "stream",
     "text": [
      "Train Loss: 0.0118 | Time: 2.53s\n",
      "  Training Loss:         0.0118\n",
      "  Validation Accuracy:   0.6116\n",
      "  Validation F1 Score:   0.6201\n",
      "----------------------------------------\n",
      "Epoch 95/100\n"
     ]
    },
    {
     "name": "stderr",
     "output_type": "stream",
     "text": []
    },
    {
     "name": "stdout",
     "output_type": "stream",
     "text": [
      "Train Loss: 0.0094 | Time: 2.53s\n",
      "  Training Loss:         0.0094\n",
      "  Validation Accuracy:   0.6033\n",
      "  Validation F1 Score:   0.6082\n",
      "----------------------------------------\n",
      "Epoch 96/100\n"
     ]
    },
    {
     "name": "stderr",
     "output_type": "stream",
     "text": []
    },
    {
     "name": "stdout",
     "output_type": "stream",
     "text": [
      "Train Loss: 0.0091 | Time: 2.53s\n",
      "  Training Loss:         0.0091\n",
      "  Validation Accuracy:   0.5950\n",
      "  Validation F1 Score:   0.5986\n",
      "----------------------------------------\n",
      "Epoch 97/100\n"
     ]
    },
    {
     "name": "stderr",
     "output_type": "stream",
     "text": []
    },
    {
     "name": "stdout",
     "output_type": "stream",
     "text": [
      "Train Loss: 0.0099 | Time: 2.52s\n",
      "  Training Loss:         0.0099\n",
      "  Validation Accuracy:   0.5785\n",
      "  Validation F1 Score:   0.5796\n",
      "----------------------------------------\n",
      "Epoch 98/100\n"
     ]
    },
    {
     "name": "stderr",
     "output_type": "stream",
     "text": []
    },
    {
     "name": "stdout",
     "output_type": "stream",
     "text": [
      "Train Loss: 0.0118 | Time: 2.53s\n",
      "  Training Loss:         0.0118\n",
      "  Validation Accuracy:   0.5950\n",
      "  Validation F1 Score:   0.6065\n",
      "----------------------------------------\n",
      "Epoch 99/100\n"
     ]
    },
    {
     "name": "stderr",
     "output_type": "stream",
     "text": []
    },
    {
     "name": "stdout",
     "output_type": "stream",
     "text": [
      "Train Loss: 0.0161 | Time: 2.51s\n",
      "  Training Loss:         0.0161\n",
      "  Validation Accuracy:   0.6033\n",
      "  Validation F1 Score:   0.6065\n",
      "----------------------------------------\n",
      "Epoch 100/100\n"
     ]
    },
    {
     "name": "stderr",
     "output_type": "stream",
     "text": []
    },
    {
     "name": "stdout",
     "output_type": "stream",
     "text": [
      "Train Loss: 0.0104 | Time: 2.53s\n",
      "  Training Loss:         0.0104\n",
      "  Validation Accuracy:   0.5950\n",
      "  Validation F1 Score:   0.5976\n",
      "----------------------------------------\n"
     ]
    }
   ],
   "source": [
    "# Step 10) Train for N Epochs\n",
    "\n",
    "num_epochs = 100\n",
    "best_f1 = 0\n",
    "history = {\n",
    "    \"epoch\": [],\n",
    "    \"train_loss\": [],\n",
    "    \"val_accuracy\": [],\n",
    "    \"val_f1\": []\n",
    "}\n",
    "\n",
    "for epoch in range(num_epochs):\n",
    "    print(f\"Epoch {epoch + 1}/{num_epochs}\")\n",
    "\n",
    "    # Train\n",
    "    train_loss = train_epoch()\n",
    "\n",
    "    # Evaluate\n",
    "    val_acc, val_f1 = evaluate()\n",
    "\n",
    "    # Log metrics\n",
    "    history[\"epoch\"].append(epoch + 1)\n",
    "    history[\"train_loss\"].append(train_loss)\n",
    "    history[\"val_accuracy\"].append(val_acc)\n",
    "    history[\"val_f1\"].append(val_f1)\n",
    "\n",
    "    # Print summary\n",
    "    print(f\"  Training Loss:         {train_loss:.4f}\")\n",
    "    print(f\"  Validation Accuracy:   {val_acc:.4f}\")\n",
    "    print(f\"  Validation F1 Score:   {val_f1:.4f}\")\n",
    "    print(\"-\" * 40)\n",
    "\n",
    "    # Save best model\n",
    "    if val_f1 > best_f1:\n",
    "        best_f1 = val_f1\n",
    "        torch.save(model.state_dict(), \"best_model.pt\")\n",
    "        print(\"Best model saved!\\n\")"
   ]
  },
  {
   "cell_type": "code",
   "execution_count": null,
   "metadata": {
    "colab": {
     "base_uri": "https://localhost:8080/",
     "height": 276
    },
    "id": "-PJpgnf5AEQq",
    "outputId": "bd7bacd5-3f95-490b-83af-f9d977712c10"
   },
   "outputs": [
    {
     "data": {
      "image/png": "[encoded data removed]",
      "text/plain": [
       "<Figure size 1200x500 with 2 Axes>"
      ]
     },
     "metadata": {},
     "output_type": "display_data"
    }
   ],
   "source": [
    "# Step 11) Plot performance\n",
    "\n",
    "import matplotlib.pyplot as plt\n",
    "\n",
    "plt.figure(figsize=(12, 5))\n",
    "\n",
    "plt.subplot(1, 2, 1)\n",
    "plt.plot(history[\"epoch\"], history[\"train_loss\"], label=\"Train Loss\", marker='o')\n",
    "plt.title(\"Training Loss per Epoch\")\n",
    "plt.xlabel(\"Epoch\")\n",
    "plt.ylabel(\"Loss\")\n",
    "plt.grid(True)\n",
    "plt.legend()\n",
    "\n",
    "plt.subplot(1, 2, 2)\n",
    "plt.plot(history[\"epoch\"], history[\"val_accuracy\"], label=\"Validation Accuracy\", marker='o')\n",
    "plt.plot(history[\"epoch\"], history[\"val_f1\"], label=\"Validation F1 Score\", marker='o')\n",
    "plt.title(\"Validation Metrics per Epoch\")\n",
    "plt.xlabel(\"Epoch\")\n",
    "plt.ylabel(\"Score\")\n",
    "plt.grid(True)\n",
    "plt.legend()\n",
    "\n",
    "plt.tight_layout()\n",
    "plt.show()\n"
   ]
  },
  {
   "cell_type": "code",
   "execution_count": null,
   "metadata": {
    "colab": {
     "base_uri": "https://localhost:8080/"
    },
    "id": "FolRY8M0PGNz",
    "outputId": "3b52b047-a27c-4725-e731-845c459f83cc"
   },
   "outputs": [
    {
     "name": "stdout",
     "output_type": "stream",
     "text": [
      "Best model saved to Google Drive!\n"
     ]
    }
   ],
   "source": [
    "# Save model\n",
    "\n",
    "# Create a path in your Drive, e.g., in a \"bert_models\" folder\n",
    "save_path = \"/content/drive/MyDrive/bert_models/Roberta_TS1.pt\"\n",
    "torch.save(model.state_dict(), save_path)\n",
    "print(\"Best model saved to Google Drive!\")"
   ]
  }
 ],
 "metadata": {
  "accelerator": "GPU",
  "colab": {
   "collapsed_sections": [
    "COk5wA3z--fz"
   ],
   "gpuType": "L4",
   "machine_shape": "hm",
   "provenance": []
  },
  "kernelspec": {
   "display_name": "Python 3",
   "name": "python3"
  },
  "language_info": {
   "name": "python"
  }
 },
 "nbformat": 4,
 "nbformat_minor": 0
}
